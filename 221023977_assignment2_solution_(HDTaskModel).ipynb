{
  "nbformat": 4,
  "nbformat_minor": 0,
  "metadata": {
    "colab": {
      "name": "221023977_assignment2_solution (HDTaskModel).ipynb",
      "provenance": [],
      "collapsed_sections": []
    },
    "kernelspec": {
      "name": "python3",
      "display_name": "Python 3"
    },
    "language_info": {
      "name": "python"
    },
    "accelerator": "GPU"
  },
  "cells": [
    {
      "cell_type": "markdown",
      "source": [
        "# SIT744 Assignment 2: Deep Learning Project "
      ],
      "metadata": {
        "id": "XWTHf7F58T69"
      }
    },
    {
      "cell_type": "markdown",
      "source": [
        "- Name: Muhammad Sohaib bin Kashif\n",
        "- ID: 221023977\n",
        "- Subject: Deep Learning"
      ],
      "metadata": {
        "id": "5MDB7oal8bgn"
      }
    },
    {
      "cell_type": "markdown",
      "source": [
        "## (HD Task Model)"
      ],
      "metadata": {
        "id": "khs6K5qP8qnI"
      }
    },
    {
      "cell_type": "markdown",
      "source": [
        "\"NOTE: Make sure to add the same Kaggle.json file in your folders for this notebook file as well!\""
      ],
      "metadata": {
        "id": "C5fbsqCQ9g_3"
      }
    },
    {
      "cell_type": "code",
      "source": [
        "! pip install kaggle"
      ],
      "metadata": {
        "colab": {
          "base_uri": "https://localhost:8080/"
        },
        "id": "4b1aOxuS8y04",
        "outputId": "d83629bf-adff-4004-ea08-32e7c5966748"
      },
      "execution_count": 1,
      "outputs": [
        {
          "output_type": "stream",
          "name": "stdout",
          "text": [
            "Requirement already satisfied: kaggle in /usr/local/lib/python3.7/dist-packages (1.5.12)\n",
            "Requirement already satisfied: six>=1.10 in /usr/local/lib/python3.7/dist-packages (from kaggle) (1.15.0)\n",
            "Requirement already satisfied: requests in /usr/local/lib/python3.7/dist-packages (from kaggle) (2.23.0)\n",
            "Requirement already satisfied: python-dateutil in /usr/local/lib/python3.7/dist-packages (from kaggle) (2.8.2)\n",
            "Requirement already satisfied: tqdm in /usr/local/lib/python3.7/dist-packages (from kaggle) (4.64.0)\n",
            "Requirement already satisfied: certifi in /usr/local/lib/python3.7/dist-packages (from kaggle) (2021.10.8)\n",
            "Requirement already satisfied: python-slugify in /usr/local/lib/python3.7/dist-packages (from kaggle) (6.1.2)\n",
            "Requirement already satisfied: urllib3 in /usr/local/lib/python3.7/dist-packages (from kaggle) (1.24.3)\n",
            "Requirement already satisfied: text-unidecode>=1.3 in /usr/local/lib/python3.7/dist-packages (from python-slugify->kaggle) (1.3)\n",
            "Requirement already satisfied: chardet<4,>=3.0.2 in /usr/local/lib/python3.7/dist-packages (from requests->kaggle) (3.0.4)\n",
            "Requirement already satisfied: idna<3,>=2.5 in /usr/local/lib/python3.7/dist-packages (from requests->kaggle) (2.10)\n"
          ]
        }
      ]
    },
    {
      "cell_type": "code",
      "source": [
        "! mkdir ~/.kaggle"
      ],
      "metadata": {
        "colab": {
          "base_uri": "https://localhost:8080/"
        },
        "id": "gTcq-0uP9YiS",
        "outputId": "23ef5240-8c6b-48d2-b457-d633681281f8"
      },
      "execution_count": 2,
      "outputs": [
        {
          "output_type": "stream",
          "name": "stdout",
          "text": [
            "mkdir: cannot create directory ‘/root/.kaggle’: File exists\n"
          ]
        }
      ]
    },
    {
      "cell_type": "code",
      "source": [
        "! cp kaggle.json ~/.kaggle/"
      ],
      "metadata": {
        "id": "QYKfy_ql9YWV"
      },
      "execution_count": 3,
      "outputs": []
    },
    {
      "cell_type": "code",
      "source": [
        "! chmod 600 ~/.kaggle/kaggle.json"
      ],
      "metadata": {
        "id": "tc-PzrGc9YRA"
      },
      "execution_count": 4,
      "outputs": []
    },
    {
      "cell_type": "code",
      "source": [
        "from google.colab import drive\n",
        "drive.mount('/content/drive')"
      ],
      "metadata": {
        "colab": {
          "base_uri": "https://localhost:8080/"
        },
        "id": "9_-rx1RI9fSj",
        "outputId": "ce96cdce-2014-4cd2-b164-34c3bd34270e"
      },
      "execution_count": 5,
      "outputs": [
        {
          "output_type": "stream",
          "name": "stdout",
          "text": [
            "Drive already mounted at /content/drive; to attempt to forcibly remount, call drive.mount(\"/content/drive\", force_remount=True).\n"
          ]
        }
      ]
    },
    {
      "cell_type": "code",
      "source": [
        "! kaggle datasets download -d techsash/waste-classification-data --unzip"
      ],
      "metadata": {
        "colab": {
          "base_uri": "https://localhost:8080/"
        },
        "id": "X8VF7TGb9sB_",
        "outputId": "f21bb86d-9944-4c28-da1d-b7fe59d63004"
      },
      "execution_count": 6,
      "outputs": [
        {
          "output_type": "stream",
          "name": "stdout",
          "text": [
            "Downloading waste-classification-data.zip to /content\n",
            " 97% 414M/427M [00:01<00:00, 252MB/s]\n",
            "100% 427M/427M [00:01<00:00, 271MB/s]\n"
          ]
        }
      ]
    },
    {
      "cell_type": "markdown",
      "source": [
        "\"For this task, we will introduce our most improved model of all the introduced models...\""
      ],
      "metadata": {
        "id": "onNtA5WAANbr"
      }
    },
    {
      "cell_type": "code",
      "execution_count": 7,
      "metadata": {
        "id": "kn3Gs8Vu8G-u"
      },
      "outputs": [],
      "source": [
        "#Importing all the libraries and pre-requisites...\n",
        "\n",
        "#Basic Libraries...\n",
        "import numpy as np\n",
        "import pandas as pd\n",
        "import tensorflow as tf\n",
        "import cv2\n",
        "import matplotlib.pyplot as plt\n",
        "%matplotlib inline\n",
        "\n",
        "#Libraries for Creating our DL Model...\n",
        "from keras.models import Sequential\n",
        "from keras.layers import Conv2D, Activation,Dropout\n",
        "from keras.models import Model,load_model\n",
        "from keras.layers import BatchNormalization\n",
        "from keras.layers.pooling import MaxPooling2D\n",
        "from keras.layers.core import Flatten, Dense\n",
        "\n",
        "#Libraries for importing components for Model Compilation...\n",
        "from tensorflow.keras import optimizers\n",
        "\n",
        "#Libraries for Pre-processing Images...\n",
        "from keras.preprocessing.image import ImageDataGenerator"
      ]
    },
    {
      "cell_type": "code",
      "source": [
        "#Introducing no Input Pipelining of our new Model...\n",
        "train_datagen = ImageDataGenerator( ) \n",
        "test_datagen = ImageDataGenerator( )"
      ],
      "metadata": {
        "id": "SuIYTeH28yvr"
      },
      "execution_count": 8,
      "outputs": []
    },
    {
      "cell_type": "code",
      "source": [
        "#Creating our testing and training data directories...\n",
        "train_dir = \"/content/DATASET/TRAIN\"\n",
        "test_dir = \"/content/DATASET/TEST\"\n",
        "image_size = 150\n",
        "batch_size = 256\n",
        "\n",
        "#Applying the Pipelining to our new model...\n",
        "train_generator = train_datagen.flow_from_directory(\n",
        "        train_dir, \n",
        "        target_size= (image_size,image_size),\n",
        "        batch_size = batch_size,\n",
        "        color_mode= \"rgb\",\n",
        "        class_mode= \"categorical\")\n",
        "\n",
        "test_generator = test_datagen.flow_from_directory(\n",
        "        test_dir, \n",
        "        target_size= (image_size,image_size),\n",
        "        batch_size = batch_size,\n",
        "        color_mode= \"rgb\",\n",
        "        class_mode= \"categorical\")"
      ],
      "metadata": {
        "colab": {
          "base_uri": "https://localhost:8080/"
        },
        "id": "6y7PbUpa8yqf",
        "outputId": "f24f62e6-3540-4027-cc9f-03cc70612a54"
      },
      "execution_count": 9,
      "outputs": [
        {
          "output_type": "stream",
          "name": "stdout",
          "text": [
            "Found 22564 images belonging to 2 classes.\n",
            "Found 2513 images belonging to 2 classes.\n"
          ]
        }
      ]
    },
    {
      "cell_type": "code",
      "source": [
        "#Now we will initialize what our model will look like...\n",
        "NN3 = Sequential()\n",
        "filters = 32\n",
        "image_size = 150\n",
        "\n",
        "#Additional a Convolutional Base with Max Pooling Layers...\n",
        "NN3.add(Conv2D(filters,(3,3), input_shape = (image_size, image_size ,3) ))\n",
        "NN3.add(Activation(\"relu\"))\n",
        "NN3.add(MaxPooling2D())\n",
        "\n",
        "NN3.add(Conv2D(2*filters,(3,3)))  \n",
        "NN3.add(Activation(\"relu\"))\n",
        "NN3.add(MaxPooling2D())\n",
        "\n",
        "NN3.add(Conv2D(4*filters,(3,3)))\n",
        "NN3.add(Activation(\"relu\"))\n",
        "NN3.add(MaxPooling2D())\n",
        "\n",
        "#Convolutional and MaxPooling Layer removed from here!"
      ],
      "metadata": {
        "id": "yfpcS0548ykf"
      },
      "execution_count": 10,
      "outputs": []
    },
    {
      "cell_type": "code",
      "source": [
        "#Adding the rest of the basic layers... \n",
        "NN3.add(Flatten())\n",
        "NN3.add(Dense(256))\n",
        "NN3.add(Activation(\"relu\"))\n",
        "NN3.add(Dropout(0.5))\n",
        "\n",
        "NN3.add(Dense(64))\n",
        "NN3.add(Activation(\"relu\"))\n",
        "NN3.add(Dropout(0.5))\n",
        "\n",
        "NN3.add(Dense(2))       #Since there are only two classes for the Output...\n",
        "NN3.add(Activation(\"sigmoid\"))"
      ],
      "metadata": {
        "id": "UfS3bwzz-co9"
      },
      "execution_count": 11,
      "outputs": []
    },
    {
      "cell_type": "code",
      "source": [
        "#Compiling the Data...\n",
        "NN3.compile(loss = \"binary_crossentropy\", optimizer = optimizers.RMSprop(learning_rate=0.001) , metrics = [\"accuracy\"]) \n",
        "batch_size = 256 "
      ],
      "metadata": {
        "id": "Nf_fmxwS_Skp"
      },
      "execution_count": 12,
      "outputs": []
    },
    {
      "cell_type": "code",
      "source": [
        "NN3.summary()"
      ],
      "metadata": {
        "colab": {
          "base_uri": "https://localhost:8080/"
        },
        "id": "aYdu6MLX-cic",
        "outputId": "e064f0e4-8410-43e7-8351-01c1cbdad291"
      },
      "execution_count": 13,
      "outputs": [
        {
          "output_type": "stream",
          "name": "stdout",
          "text": [
            "Model: \"sequential\"\n",
            "_________________________________________________________________\n",
            " Layer (type)                Output Shape              Param #   \n",
            "=================================================================\n",
            " conv2d (Conv2D)             (None, 148, 148, 32)      896       \n",
            "                                                                 \n",
            " activation (Activation)     (None, 148, 148, 32)      0         \n",
            "                                                                 \n",
            " max_pooling2d (MaxPooling2D  (None, 74, 74, 32)       0         \n",
            " )                                                               \n",
            "                                                                 \n",
            " conv2d_1 (Conv2D)           (None, 72, 72, 64)        18496     \n",
            "                                                                 \n",
            " activation_1 (Activation)   (None, 72, 72, 64)        0         \n",
            "                                                                 \n",
            " max_pooling2d_1 (MaxPooling  (None, 36, 36, 64)       0         \n",
            " 2D)                                                             \n",
            "                                                                 \n",
            " conv2d_2 (Conv2D)           (None, 34, 34, 128)       73856     \n",
            "                                                                 \n",
            " activation_2 (Activation)   (None, 34, 34, 128)       0         \n",
            "                                                                 \n",
            " max_pooling2d_2 (MaxPooling  (None, 17, 17, 128)      0         \n",
            " 2D)                                                             \n",
            "                                                                 \n",
            " flatten (Flatten)           (None, 36992)             0         \n",
            "                                                                 \n",
            " dense (Dense)               (None, 256)               9470208   \n",
            "                                                                 \n",
            " activation_3 (Activation)   (None, 256)               0         \n",
            "                                                                 \n",
            " dropout (Dropout)           (None, 256)               0         \n",
            "                                                                 \n",
            " dense_1 (Dense)             (None, 64)                16448     \n",
            "                                                                 \n",
            " activation_4 (Activation)   (None, 64)                0         \n",
            "                                                                 \n",
            " dropout_1 (Dropout)         (None, 64)                0         \n",
            "                                                                 \n",
            " dense_2 (Dense)             (None, 2)                 130       \n",
            "                                                                 \n",
            " activation_5 (Activation)   (None, 2)                 0         \n",
            "                                                                 \n",
            "=================================================================\n",
            "Total params: 9,580,034\n",
            "Trainable params: 9,580,034\n",
            "Non-trainable params: 0\n",
            "_________________________________________________________________\n"
          ]
        }
      ]
    },
    {
      "cell_type": "code",
      "source": [
        "#Training with the Callback...\n",
        "history3 = NN3.fit_generator( generator = train_generator, epochs=30)"
      ],
      "metadata": {
        "colab": {
          "base_uri": "https://localhost:8080/"
        },
        "id": "gffgz7JB-fY6",
        "outputId": "21b36516-21ba-4756-ca45-ea13b43a44bb"
      },
      "execution_count": 14,
      "outputs": [
        {
          "output_type": "stream",
          "name": "stderr",
          "text": [
            "/usr/local/lib/python3.7/dist-packages/ipykernel_launcher.py:2: UserWarning: `Model.fit_generator` is deprecated and will be removed in a future version. Please use `Model.fit`, which supports generators.\n",
            "  \n"
          ]
        },
        {
          "output_type": "stream",
          "name": "stdout",
          "text": [
            "Epoch 1/30\n",
            "89/89 [==============================] - 38s 363ms/step - loss: 10.2040 - accuracy: 0.6086\n",
            "Epoch 2/30\n",
            "89/89 [==============================] - 33s 365ms/step - loss: 1.6703 - accuracy: 0.6100\n",
            "Epoch 3/30\n",
            "89/89 [==============================] - 32s 363ms/step - loss: 0.9375 - accuracy: 0.6359\n",
            "Epoch 4/30\n",
            "89/89 [==============================] - 32s 356ms/step - loss: 0.5879 - accuracy: 0.7559\n",
            "Epoch 5/30\n",
            "89/89 [==============================] - 31s 350ms/step - loss: 0.4993 - accuracy: 0.8065\n",
            "Epoch 6/30\n",
            "89/89 [==============================] - 32s 358ms/step - loss: 0.4359 - accuracy: 0.8267\n",
            "Epoch 7/30\n",
            "89/89 [==============================] - 31s 351ms/step - loss: 0.4058 - accuracy: 0.8386\n",
            "Epoch 8/30\n",
            "89/89 [==============================] - 31s 351ms/step - loss: 0.3830 - accuracy: 0.8515\n",
            "Epoch 9/30\n",
            "89/89 [==============================] - 31s 351ms/step - loss: 0.3617 - accuracy: 0.8609\n",
            "Epoch 10/30\n",
            "89/89 [==============================] - 31s 352ms/step - loss: 0.3464 - accuracy: 0.8639\n",
            "Epoch 11/30\n",
            "89/89 [==============================] - 32s 357ms/step - loss: 0.3226 - accuracy: 0.8774\n",
            "Epoch 12/30\n",
            "89/89 [==============================] - 32s 359ms/step - loss: 0.3100 - accuracy: 0.8779\n",
            "Epoch 13/30\n",
            "89/89 [==============================] - 31s 342ms/step - loss: 0.2930 - accuracy: 0.8881\n",
            "Epoch 14/30\n",
            "89/89 [==============================] - 31s 352ms/step - loss: 0.2956 - accuracy: 0.8953\n",
            "Epoch 15/30\n",
            "89/89 [==============================] - 32s 353ms/step - loss: 0.2478 - accuracy: 0.9087\n",
            "Epoch 16/30\n",
            "89/89 [==============================] - 32s 354ms/step - loss: 0.2306 - accuracy: 0.9156\n",
            "Epoch 17/30\n",
            "89/89 [==============================] - 31s 349ms/step - loss: 0.2067 - accuracy: 0.9249\n",
            "Epoch 18/30\n",
            "89/89 [==============================] - 32s 359ms/step - loss: 0.1865 - accuracy: 0.9327\n",
            "Epoch 19/30\n",
            "89/89 [==============================] - 32s 356ms/step - loss: 0.1895 - accuracy: 0.9339\n",
            "Epoch 20/30\n",
            "89/89 [==============================] - 32s 356ms/step - loss: 0.1628 - accuracy: 0.9450\n",
            "Epoch 21/30\n",
            "89/89 [==============================] - 31s 350ms/step - loss: 0.1711 - accuracy: 0.9419\n",
            "Epoch 22/30\n",
            "89/89 [==============================] - 32s 354ms/step - loss: 0.1394 - accuracy: 0.9528\n",
            "Epoch 23/30\n",
            "89/89 [==============================] - 31s 350ms/step - loss: 0.1271 - accuracy: 0.9550\n",
            "Epoch 24/30\n",
            "89/89 [==============================] - 32s 356ms/step - loss: 0.1317 - accuracy: 0.9608\n",
            "Epoch 25/30\n",
            "89/89 [==============================] - 32s 355ms/step - loss: 0.1392 - accuracy: 0.9576\n",
            "Epoch 26/30\n",
            "89/89 [==============================] - 31s 347ms/step - loss: 0.1290 - accuracy: 0.9608\n",
            "Epoch 27/30\n",
            "89/89 [==============================] - 31s 346ms/step - loss: 0.1588 - accuracy: 0.9535\n",
            "Epoch 28/30\n",
            "89/89 [==============================] - 31s 349ms/step - loss: 0.1138 - accuracy: 0.9653\n",
            "Epoch 29/30\n",
            "89/89 [==============================] - 31s 352ms/step - loss: 0.1314 - accuracy: 0.9595\n",
            "Epoch 30/30\n",
            "89/89 [==============================] - 31s 349ms/step - loss: 0.1196 - accuracy: 0.9624\n"
          ]
        }
      ]
    },
    {
      "cell_type": "code",
      "source": [
        "plt.figure(figsize=[10,6])\n",
        "plt.plot(history3.history[\"accuracy\"], label = \"Train acc\")\n",
        "plt.legend()\n",
        "plt.show()"
      ],
      "metadata": {
        "colab": {
          "base_uri": "https://localhost:8080/",
          "height": 374
        },
        "id": "ynSXMM9O-fTV",
        "outputId": "89684bfb-b17d-44f3-da92-8171f467dcd3"
      },
      "execution_count": 15,
      "outputs": [
        {
          "output_type": "display_data",
          "data": {
            "text/plain": [
              "<Figure size 720x432 with 1 Axes>"
            ],
            "image/png": "[encoded data removed]"
          },
          "metadata": {
            "needs_background": "light"
          }
        }
      ]
    },
    {
      "cell_type": "code",
      "source": [
        "NN3.evaluate(test_generator)"
      ],
      "metadata": {
        "colab": {
          "base_uri": "https://localhost:8080/"
        },
        "id": "yIs0Xpg9-8uN",
        "outputId": "000ea4a5-7b95-40d7-9b3e-f702e043f97d"
      },
      "execution_count": 16,
      "outputs": [
        {
          "output_type": "stream",
          "name": "stdout",
          "text": [
            "10/10 [==============================] - 4s 408ms/step - loss: 1.1863 - accuracy: 0.8683\n"
          ]
        },
        {
          "output_type": "execute_result",
          "data": {
            "text/plain": [
              "[1.186299204826355, 0.8682849407196045]"
            ]
          },
          "metadata": {},
          "execution_count": 16
        }
      ]
    },
    {
      "cell_type": "code",
      "source": [
        "! pip install anvil-uplink"
      ],
      "metadata": {
        "colab": {
          "base_uri": "https://localhost:8080/",
          "height": 242
        },
        "id": "P9UQfdZ3D-ml",
        "outputId": "f7eee172-9273-45a9-cdcb-4d055ac84f00"
      },
      "execution_count": 17,
      "outputs": [
        {
          "output_type": "stream",
          "name": "stdout",
          "text": [
            "Requirement already satisfied: anvil-uplink in /usr/local/lib/python3.7/dist-packages (0.3.42)\n",
            "Requirement already satisfied: six in /usr/local/lib/python3.7/dist-packages (from anvil-uplink) (1.15.0)\n",
            "Requirement already satisfied: ws4py in /usr/local/lib/python3.7/dist-packages (from anvil-uplink) (0.5.1)\n",
            "Collecting argparse\n",
            "  Using cached argparse-1.4.0-py2.py3-none-any.whl (23 kB)\n",
            "Requirement already satisfied: future in /usr/local/lib/python3.7/dist-packages (from anvil-uplink) (0.16.0)\n",
            "Installing collected packages: argparse\n",
            "Successfully installed argparse-1.4.0\n"
          ]
        },
        {
          "output_type": "display_data",
          "data": {
            "application/vnd.colab-display-data+json": {
              "pip_warning": {
                "packages": [
                  "argparse"
                ]
              }
            }
          },
          "metadata": {}
        }
      ]
    },
    {
      "cell_type": "code",
      "source": [
        "#Connecting our Colab Notebook with our Anvil App...\n",
        "import anvil.server as anvs\n",
        "import anvil.media\n",
        "from keras.preprocessing.image import load_img\n",
        "\n",
        "anvs.connect(\"XKIAGFLA3QSZESFZPLUEFPXH-HVRN4QJ2U3BJAYR4\")"
      ],
      "metadata": {
        "colab": {
          "base_uri": "https://localhost:8080/"
        },
        "id": "Ba66g6GoFMDJ",
        "outputId": "f9a8515a-71ae-45d5-e6d3-3232cf55902b"
      },
      "execution_count": 18,
      "outputs": [
        {
          "output_type": "stream",
          "name": "stdout",
          "text": [
            "Connecting to wss://anvil.works/uplink\n",
            "Anvil websocket open\n",
            "Connected to \"Default environment\" as SERVER\n"
          ]
        }
      ]
    },
    {
      "cell_type": "code",
      "source": [
        "image_size = 150\n",
        "\n",
        "@anvil.server.callable\n",
        "def waste_classify(image):\n",
        "  with anvil.media.TempFile(image) as filename:\n",
        "    new_test_datagen = ImageDataGenerator( )\n",
        "    new_test_datagen.flow_from_directory(filename, target_size= (image_size,image_size), batch_size = batch_size\n",
        "                                     ,color_mode= \"rgb\", class_mode= \"categorical\")\n",
        "    \n",
        "    #Prediciting the Image label...\n",
        "    pred = NN3.predict(new_test_datagen)\n",
        "\n",
        "    #Classifying the label...\n",
        "    if (pred < 0.5):\n",
        "      label = \"Organic!\"\n",
        "    elif (pred <= 0.5):\n",
        "      label = \"Recycleable!\"\n",
        " \n",
        "  return label"
      ],
      "metadata": {
        "id": "G5lAN9EKITmw"
      },
      "execution_count": 19,
      "outputs": []
    }
  ]
}